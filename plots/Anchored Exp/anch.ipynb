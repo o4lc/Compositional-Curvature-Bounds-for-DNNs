{
 "cells": [
  {
   "cell_type": "code",
   "execution_count": 1,
   "metadata": {},
   "outputs": [
    {
     "name": "stderr",
     "output_type": "stream",
     "text": [
      "/usr/lib/python3/dist-packages/requests/__init__.py:87: RequestsDependencyWarning: urllib3 (2.0.3) or chardet (4.0.0) doesn't match a supported version!\n",
      "  warnings.warn(\"urllib3 ({}) or chardet ({}) doesn't match a supported \"\n"
     ]
    }
   ],
   "source": [
    "import numpy as np\n",
    "from typing import List\n",
    "import matplotlib.pyplot as plt\n",
    "from tqdm import tqdm\n",
    "\n",
    "\n",
    "import torch.cuda\n",
    "import torchvision.transforms as trn\n",
    "import torchvision.datasets as dset\n",
    "import torch.optim as optim\n",
    "import sys\n",
    "\n",
    "sys.path.append('../../')\n",
    "from core.models.lipltArchitectures import getNetworkArchitecture\n",
    "from core.bisectionSolver import createSlopeDictionary\n",
    "from core.models.model import lipschitzModel"
   ]
  },
  {
   "cell_type": "code",
   "execution_count": 2,
   "metadata": {},
   "outputs": [],
   "source": [
    "def calcAnchLip(net, x0):\n",
    "    with torch.no_grad():\n",
    "        slopeDictionary, __, maximumValue = createSlopeDictionary('tanh')\n",
    "\n",
    "        numLayers = (len(net.linear)) // 2\n",
    "        params = [net.linear[2*i + 1].weight.detach().cpu().numpy() for i in range(numLayers)]\n",
    "        \n",
    "        r = np.zeros(len(params))\n",
    "        r[0] = np.linalg.norm(params[0], 2)\n",
    "\n",
    "        xmid = net.linear[1](net.linear[0](x0)).reshape(-1)\n",
    "        for i in range(1, len(params)):\n",
    "            tmp = []\n",
    "            for xx in xmid:\n",
    "                xx = np.minimum(np.abs(xx.item()), 2.00)\n",
    "                xx = np.round(xx, 2)\n",
    "                tmp.append(slopeDictionary[xx])\n",
    "            r[i] = r[i-1] * np.linalg.norm(np.diag(np.array(tmp)) @ params[i].T, 2)\n",
    "\n",
    "            xmid = net.linear[2*i + 1](net.linear[2*i](xmid)).reshape(-1)\n",
    "\n",
    "        return r\n",
    "    \n",
    "def calcNaiveLip(net):\n",
    "    with torch.no_grad():\n",
    "        beta = 1.0\n",
    "        numLayers = (len(net.linear)) // 2\n",
    "        params = [net.linear[2*i + 1].weight.detach().cpu().numpy() for i in range(numLayers)]\n",
    "\n",
    "        r = np.zeros(len(params))\n",
    "        r[0] = np.linalg.norm(params[0], 2)\n",
    "        for i in range(1, len(params)):\n",
    "            r[i] = beta * r[i-1] * np.linalg.norm(params[i].T, 2)\n",
    "        return r\n",
    "\n",
    "def calcNaiveCurv(net, r):\n",
    "    with torch.no_grad():\n",
    "        beta = 1.0\n",
    "        betaPrime = 0.7699\n",
    "\n",
    "        numLayers = (len(net.linear)) // 2\n",
    "        params = [net.linear[2*i + 1].weight.detach().cpu().numpy() for i in range(numLayers)]\n",
    "\n",
    "        m = np.zeros(len(params))\n",
    "        for i in range(1, len(params)):\n",
    "            subnetLip = r[i]\n",
    "            layerLipschitz = beta * np.linalg.norm(params[i].T, 2)\n",
    "            layerJacobianLipschitz = betaPrime * np.linalg.norm(params[i].T, 2)**2\n",
    "            m[i] = layerJacobianLipschitz * subnetLip ** 2 + layerLipschitz * m[i-1]\n",
    "        return m\n",
    "\n",
    "\n",
    "def calcAnchCurv(net, x0, r):\n",
    "    with torch.no_grad():\n",
    "        slopeDictionary, curvDictionary, maximumValue = createSlopeDictionary('tanh')\n",
    "        beta = 1.0\n",
    "        betaPrime = 0.7699\n",
    "\n",
    "        numLayers = (len(net.linear)) // 2\n",
    "        params = [net.linear[2*i + 1].weight.detach().cpu().numpy() for i in range(numLayers)]\n",
    "\n",
    "        m = np.zeros(len(params))\n",
    "\n",
    "        x0 = x0.to(torch.device('cuda'))\n",
    "        net.to(torch.device('cuda'))\n",
    "        rAnch = calcAnchLip(net, x0)\n",
    "\n",
    "\n",
    "        \n",
    "        xmid = net.linear[1](net.linear[0](x0)).reshape(-1)\n",
    "        for i in range(1, len(params)):\n",
    "            tmp = []\n",
    "            for xx in xmid:\n",
    "                xx = np.minimum(np.abs(xx.item()), 2.00)\n",
    "                xx = np.round(xx, 2)\n",
    "                tmp.append(curvDictionary[xx])\n",
    "            subnetLip = r[i]\n",
    "            subnetAnchLip = rAnch[i]\n",
    "            subnetAnchLip = torch.tensor(subnetAnchLip).to(x0.device)\n",
    "            layerLipschitz = np.linalg.norm(np.diag(np.array(tmp)) @ params[i].T, 2)\n",
    "\n",
    "            layerJacobianLipschitz = betaPrime * np.linalg.norm(params[i], 2)**2\n",
    "\n",
    "            m[i] = layerLipschitz * m[i-1] +\\\n",
    "                        layerJacobianLipschitz * subnetLip * subnetAnchLip\n",
    "        return m"
   ]
  },
  {
   "cell_type": "code",
   "execution_count": 3,
   "metadata": {},
   "outputs": [],
   "source": [
    "def compareLips(net, dataLoader, device=torch.device('cuda')):\n",
    "    lipNaives = calcNaiveLip(net)\n",
    "    anchLip = []\n",
    "    net.to(torch.device('cuda'))\n",
    "    for X, Y in tqdm(dataLoader):\n",
    "        X = X.to(torch.device('cuda'))\n",
    "        for x in X:\n",
    "            anchLip.append(calcAnchLip(net, x)[-1])\n",
    "        break\n",
    "\n",
    "        \n",
    "    \n",
    "    print(\"Naive Lipschitz: \", lipNaives[-1])\n",
    "    # print(anchLip)\n",
    "    print(\"Anchored Lipschitz: \", np.mean(anchLip))\n",
    "    return lipNaives, np.mean(anchLip), np.std(anchLip)\n",
    "\n",
    "def compareCurves(net, dataLoader, r, device=torch.device('cuda')):\n",
    "    curvNaives = calcNaiveCurv(net, r)\n",
    "    anchCurv = []\n",
    "    r = torch.Tensor(r)\n",
    "    r = r.to(torch.device('cuda'))\n",
    "    net.to(torch.device('cuda'))\n",
    "    for X, Y in tqdm(dataLoader):\n",
    "        X.to(torch.device('cuda'))\n",
    "        for x in X:\n",
    "            anchCurv.append(calcAnchCurv(net, x, r)[-1])\n",
    "        break\n",
    "   \n",
    "    \n",
    "    print(\"Naive Curv: \", curvNaives[-1])\n",
    "    print(\"Anchored Curv: \", np.mean(anchCurv))\n",
    "    return curvNaives, np.mean(anchCurv), np.std(anchCurv)"
   ]
  },
  {
   "cell_type": "code",
   "execution_count": 4,
   "metadata": {},
   "outputs": [],
   "source": [
    "def dataLoaders():\n",
    "    test_transform = trn.Compose([trn.ToTensor(), trn.Normalize(0, 1)])\n",
    "    train_transform = trn.Compose([trn.ToTensor(), trn.Normalize(0, 1)])\n",
    "\n",
    "    test_data = dset.MNIST('./data/mnist', train=False, transform=test_transform, download=True)\n",
    "    train_data = dset.MNIST('./data/mnist', train=True, transform=test_transform, download=True)\n",
    "\n",
    "    train_loader = torch.utils.data.DataLoader(\n",
    "        train_data,\n",
    "        batch_size=4, shuffle=False,\n",
    "        num_workers=4, pin_memory=True)\n",
    "    test_loader = torch.utils.data.DataLoader(\n",
    "        test_data,\n",
    "        batch_size=256, shuffle=False,\n",
    "        num_workers=4, pin_memory=True)\n",
    "    return train_loader, test_loader\n",
    "\n",
    "def train(net, train_loader, reg=False):\n",
    "    optimizer = optim.Adam(net.parameters(), lr=0.001)\n",
    "    net.to(torch.device('cuda'))\n",
    "    for __ in tqdm(range(10)):\n",
    "        for X, Y in train_loader:\n",
    "            X = X.to(torch.device('cuda'))\n",
    "            Y = Y.to(torch.device('cuda'))\n",
    "\n",
    "            optimizer.zero_grad()\n",
    "            out = net(X)\n",
    "            loss = torch.nn.functional.cross_entropy(out, Y)\n",
    "            if reg == True:\n",
    "                numLayers = (len(net.linear)) // 2\n",
    "                paramNorms = torch.Tensor([torch.norm(net.linear[2*i + 1].weight) for i in range(numLayers)])\n",
    "                loss += 0.01 * torch.prod(paramNorms)\n",
    "            loss.backward()\n",
    "            optimizer.step()\n",
    "    return net\n",
    "        "
   ]
  },
  {
   "cell_type": "code",
   "execution_count": 5,
   "metadata": {},
   "outputs": [],
   "source": [
    "class Config:\n",
    "    def __init__(self):\n",
    "        config = {'model_name':'liplt-' + '3F'}\n",
    "\n",
    "config = Config()"
   ]
  },
  {
   "cell_type": "code",
   "execution_count": 6,
   "metadata": {},
   "outputs": [],
   "source": [
    "def run(trainNet=False):\n",
    "    for arch in ['3F', '4F', '5F', '6F']:\n",
    "        print(arch + '-------------------')\n",
    "        x0 = torch.randn(1, 1, 28, 28)\n",
    "        config.model_name = 'liplt-' + arch\n",
    "        config.networkConfiguration = {\"perClassLipschitz\": False,\n",
    "                                \"activation\": 'tanh',\n",
    "                                'learnableBeta': False,\n",
    "                                \"numberOfPowerIterations\": 2,\n",
    "                                \"inputShape\": x0.shape,\n",
    "                                \"modelType\": \"liplt\",\n",
    "                                'layers': getNetworkArchitecture(arch),\n",
    "                                \"weightInitialization\": \"standard\",\n",
    "                                'pairwiseLipschitz': False,\n",
    "                                'architecture': None,\n",
    "                                'numberOfClasses': 10, }\n",
    "\n",
    "        net =  lipschitzModel(config, 10, 'tanh')\n",
    "        train_loader, test_loader = dataLoaders()\n",
    "        if trainNet:\n",
    "            net = train(net, train_loader, reg=True)\n",
    "        torch.save(net.state_dict(), './' + arch + '-reg' + '.pt')"
   ]
  },
  {
   "cell_type": "code",
   "execution_count": 7,
   "metadata": {},
   "outputs": [
    {
     "name": "stdout",
     "output_type": "stream",
     "text": [
      "3F-------------------\n"
     ]
    },
    {
     "name": "stderr",
     "output_type": "stream",
     "text": [
      "  0%|          | 0/10 [00:00<?, ?it/s]"
     ]
    }
   ],
   "source": [
    "run(trainNet=True)"
   ]
  },
  {
   "cell_type": "code",
   "execution_count": 30,
   "metadata": {},
   "outputs": [],
   "source": [
    "def eval():\n",
    "    naive, anch = [], []\n",
    "    naivC, anchC = [], []\n",
    "    anchVar, anchCVar = [], []\n",
    "    for arch in ['3F', '4F']:\n",
    "        print(arch + '-------------------')\n",
    "        x0 = torch.randn(1, 1, 28, 28)\n",
    "        config.model_name = 'liplt-' + arch\n",
    "        config.networkConfiguration = {\"perClassLipschitz\": False,\n",
    "                                \"activation\": 'tanh',\n",
    "                                'learnableBeta': False,\n",
    "                                \"numberOfPowerIterations\": 2,\n",
    "                                \"inputShape\": x0.shape,\n",
    "                                \"modelType\": \"liplt\",\n",
    "                                'layers': getNetworkArchitecture(arch),\n",
    "                                \"weightInitialization\": \"standard\",\n",
    "                                'pairwiseLipschitz': False,\n",
    "                                'architecture': None,\n",
    "                                'numberOfClasses': 10, }\n",
    "\n",
    "        net =  lipschitzModel(config, 10, 'tanh')\n",
    "        net.load_state_dict(torch.load('./' + arch + '.pt'))\n",
    "        net.eval()\n",
    "        train_loader, test_loader = dataLoaders()\n",
    "        lip, anchMean, anchStd = compareLips(net, test_loader)\n",
    "        naive.append(lip[-1]), anch.append(anchMean), anchVar.append(anchStd)\n",
    "        print('****')\n",
    "        curv, anchMean, anchStd = compareCurves(net, test_loader, lip)\n",
    "        naivC.append(curv[-1]), anchC.append(anchMean), anchCVar.append(anchStd)\n",
    "    return naive, anch, naivC, anchC, anchVar, anchCVar"
   ]
  },
  {
   "cell_type": "code",
   "execution_count": 31,
   "metadata": {},
   "outputs": [
    {
     "name": "stdout",
     "output_type": "stream",
     "text": [
      "3F-------------------\n"
     ]
    },
    {
     "name": "stderr",
     "output_type": "stream",
     "text": [
      "  0%|          | 0/40 [01:44<?, ?it/s]\n"
     ]
    },
    {
     "name": "stdout",
     "output_type": "stream",
     "text": [
      "Naive Lipschitz:  150.24845645821804\n",
      "Anchored Lipschitz:  77.43832710167635\n",
      "****\n"
     ]
    },
    {
     "name": "stderr",
     "output_type": "stream",
     "text": [
      "  0%|          | 0/40 [03:17<?, ?it/s]\n"
     ]
    },
    {
     "name": "stdout",
     "output_type": "stream",
     "text": [
      "Naive Curv:  315309.50515786593\n",
      "Anchored Curv:  143243.192416572\n",
      "4F-------------------\n"
     ]
    },
    {
     "name": "stderr",
     "output_type": "stream",
     "text": [
      "  0%|          | 0/40 [01:45<?, ?it/s]\n"
     ]
    },
    {
     "name": "stdout",
     "output_type": "stream",
     "text": [
      "Naive Lipschitz:  549.0313768694923\n",
      "Anchored Lipschitz:  206.77327362428844\n",
      "****\n"
     ]
    },
    {
     "name": "stderr",
     "output_type": "stream",
     "text": [
      "  0%|          | 0/40 [03:18<?, ?it/s]\n"
     ]
    },
    {
     "name": "stdout",
     "output_type": "stream",
     "text": [
      "Naive Curv:  4420295.562514891\n",
      "Anchored Curv:  1445152.5805298886\n",
      "5F-------------------\n"
     ]
    },
    {
     "ename": "KeyError",
     "evalue": "'jacobianLipschitzEigenvectorDictionary'",
     "output_type": "error",
     "traceback": [
      "\u001b[0;31m---------------------------------------------------------------------------\u001b[0m",
      "\u001b[0;31mKeyError\u001b[0m                                  Traceback (most recent call last)",
      "Cell \u001b[0;32mIn[31], line 1\u001b[0m\n\u001b[0;32m----> 1\u001b[0m naive, anch, naivC, anchC,  anchVar, anchCVar  \u001b[38;5;241m=\u001b[39m \u001b[38;5;28;43meval\u001b[39;49m\u001b[43m(\u001b[49m\u001b[43m)\u001b[49m\n",
      "Cell \u001b[0;32mIn[30], line 22\u001b[0m, in \u001b[0;36meval\u001b[0;34m()\u001b[0m\n\u001b[1;32m      9\u001b[0m config\u001b[38;5;241m.\u001b[39mnetworkConfiguration \u001b[38;5;241m=\u001b[39m {\u001b[38;5;124m\"\u001b[39m\u001b[38;5;124mperClassLipschitz\u001b[39m\u001b[38;5;124m\"\u001b[39m: \u001b[38;5;28;01mFalse\u001b[39;00m,\n\u001b[1;32m     10\u001b[0m                         \u001b[38;5;124m\"\u001b[39m\u001b[38;5;124mactivation\u001b[39m\u001b[38;5;124m\"\u001b[39m: \u001b[38;5;124m'\u001b[39m\u001b[38;5;124mtanh\u001b[39m\u001b[38;5;124m'\u001b[39m,\n\u001b[1;32m     11\u001b[0m                         \u001b[38;5;124m'\u001b[39m\u001b[38;5;124mlearnableBeta\u001b[39m\u001b[38;5;124m'\u001b[39m: \u001b[38;5;28;01mFalse\u001b[39;00m,\n\u001b[0;32m   (...)\u001b[0m\n\u001b[1;32m     18\u001b[0m                         \u001b[38;5;124m'\u001b[39m\u001b[38;5;124marchitecture\u001b[39m\u001b[38;5;124m'\u001b[39m: \u001b[38;5;28;01mNone\u001b[39;00m,\n\u001b[1;32m     19\u001b[0m                         \u001b[38;5;124m'\u001b[39m\u001b[38;5;124mnumberOfClasses\u001b[39m\u001b[38;5;124m'\u001b[39m: \u001b[38;5;241m10\u001b[39m, }\n\u001b[1;32m     21\u001b[0m net \u001b[38;5;241m=\u001b[39m  lipschitzModel(config, \u001b[38;5;241m10\u001b[39m, \u001b[38;5;124m'\u001b[39m\u001b[38;5;124mtanh\u001b[39m\u001b[38;5;124m'\u001b[39m)\n\u001b[0;32m---> 22\u001b[0m \u001b[43mnet\u001b[49m\u001b[38;5;241;43m.\u001b[39;49m\u001b[43mload_state_dict\u001b[49m\u001b[43m(\u001b[49m\u001b[43mtorch\u001b[49m\u001b[38;5;241;43m.\u001b[39;49m\u001b[43mload\u001b[49m\u001b[43m(\u001b[49m\u001b[38;5;124;43m'\u001b[39;49m\u001b[38;5;124;43m./\u001b[39;49m\u001b[38;5;124;43m'\u001b[39;49m\u001b[43m \u001b[49m\u001b[38;5;241;43m+\u001b[39;49m\u001b[43m \u001b[49m\u001b[43march\u001b[49m\u001b[43m \u001b[49m\u001b[38;5;241;43m+\u001b[39;49m\u001b[43m \u001b[49m\u001b[38;5;124;43m'\u001b[39;49m\u001b[38;5;124;43m.pt\u001b[39;49m\u001b[38;5;124;43m'\u001b[39;49m\u001b[43m)\u001b[49m\u001b[43m)\u001b[49m\n\u001b[1;32m     23\u001b[0m net\u001b[38;5;241m.\u001b[39meval()\n\u001b[1;32m     24\u001b[0m train_loader, test_loader \u001b[38;5;241m=\u001b[39m dataLoaders()\n",
      "File \u001b[0;32m~/Desktop/ICLM24/ASLL/plots/Anchored Exp/../../core/models/lipltModels.py:544\u001b[0m, in \u001b[0;36mSequentialLipltLipschitz.load_state_dict\u001b[0;34m(self, state_dict, strict, loadEigenVectors)\u001b[0m\n\u001b[1;32m    541\u001b[0m \u001b[38;5;28;01mdef\u001b[39;00m \u001b[38;5;21mload_state_dict\u001b[39m(\u001b[38;5;28mself\u001b[39m, state_dict,\n\u001b[1;32m    542\u001b[0m                     strict: \u001b[38;5;28mbool\u001b[39m \u001b[38;5;241m=\u001b[39m \u001b[38;5;28;01mTrue\u001b[39;00m,\n\u001b[1;32m    543\u001b[0m                     loadEigenVectors\u001b[38;5;241m=\u001b[39m\u001b[38;5;28;01mTrue\u001b[39;00m):\n\u001b[0;32m--> 544\u001b[0m     \u001b[38;5;28;43msuper\u001b[39;49m\u001b[43m(\u001b[49m\u001b[43m)\u001b[49m\u001b[38;5;241;43m.\u001b[39;49m\u001b[43mload_state_dict\u001b[49m\u001b[43m(\u001b[49m\u001b[43mstate_dict\u001b[49m\u001b[43m,\u001b[49m\u001b[43m \u001b[49m\u001b[43mstrict\u001b[49m\u001b[43m,\u001b[49m\u001b[43m \u001b[49m\u001b[43mloadEigenVectors\u001b[49m\u001b[38;5;241;43m=\u001b[39;49m\u001b[43mloadEigenVectors\u001b[49m\u001b[43m)\u001b[49m\n\u001b[1;32m    545\u001b[0m     \u001b[38;5;28;01mif\u001b[39;00m loadEigenVectors:\n\u001b[1;32m    546\u001b[0m         \u001b[38;5;28;01mtry\u001b[39;00m:\n",
      "File \u001b[0;32m~/Desktop/ICLM24/ASLL/plots/Anchored Exp/../../core/models/lipltModels.py:191\u001b[0m, in \u001b[0;36mSequentialNaiveLipschitz.load_state_dict\u001b[0;34m(self, state_dict, strict, loadEigenVectors)\u001b[0m\n\u001b[1;32m    189\u001b[0m warned \u001b[38;5;241m=\u001b[39m \u001b[38;5;28;01mFalse\u001b[39;00m\n\u001b[1;32m    190\u001b[0m \u001b[38;5;28;01mfor\u001b[39;00m key \u001b[38;5;129;01min\u001b[39;00m \u001b[38;5;28mself\u001b[39m\u001b[38;5;241m.\u001b[39mjacobianLipschitzEigenvectorDictionary:\n\u001b[0;32m--> 191\u001b[0m     \u001b[38;5;28;01mif\u001b[39;00m key \u001b[38;5;129;01min\u001b[39;00m \u001b[43mstate_dict\u001b[49m\u001b[43m[\u001b[49m\u001b[38;5;124;43m'\u001b[39;49m\u001b[38;5;124;43mjacobianLipschitzEigenvectorDictionary\u001b[39;49m\u001b[38;5;124;43m'\u001b[39;49m\u001b[43m]\u001b[49m:\n\u001b[1;32m    192\u001b[0m         \u001b[38;5;28mself\u001b[39m\u001b[38;5;241m.\u001b[39mjacobianLipschitzEigenvectorDictionary[key] \u001b[38;5;241m=\u001b[39m \\\n\u001b[1;32m    193\u001b[0m             state_dict[\u001b[38;5;124m'\u001b[39m\u001b[38;5;124mjacobianLipschitzEigenvectorDictionary\u001b[39m\u001b[38;5;124m'\u001b[39m][key]\n\u001b[1;32m    194\u001b[0m     \u001b[38;5;28;01melif\u001b[39;00m \u001b[38;5;129;01mnot\u001b[39;00m warned:\n",
      "\u001b[0;31mKeyError\u001b[0m: 'jacobianLipschitzEigenvectorDictionary'"
     ]
    }
   ],
   "source": [
    "naive, anch, naivC, anchC,  anchVar, anchCVar  = eval()"
   ]
  },
  {
   "cell_type": "code",
   "execution_count": 32,
   "metadata": {},
   "outputs": [
    {
     "ename": "NameError",
     "evalue": "name 'anch' is not defined",
     "output_type": "error",
     "traceback": [
      "\u001b[0;31m---------------------------------------------------------------------------\u001b[0m",
      "\u001b[0;31mNameError\u001b[0m                                 Traceback (most recent call last)",
      "Cell \u001b[0;32mIn[32], line 6\u001b[0m\n\u001b[1;32m      4\u001b[0m plt\u001b[38;5;241m.\u001b[39msubplot(\u001b[38;5;241m1\u001b[39m, \u001b[38;5;241m2\u001b[39m, \u001b[38;5;241m1\u001b[39m)\n\u001b[1;32m      5\u001b[0m \u001b[38;5;66;03m# plt.plot(xranges, naive, marker='^', label='Global Lipschitz')\u001b[39;00m\n\u001b[0;32m----> 6\u001b[0m plt\u001b[38;5;241m.\u001b[39merrorbar(xranges, \u001b[43manch\u001b[49m, marker\u001b[38;5;241m=\u001b[39m\u001b[38;5;124m'\u001b[39m\u001b[38;5;124m^\u001b[39m\u001b[38;5;124m'\u001b[39m, label\u001b[38;5;241m=\u001b[39m\u001b[38;5;124m'\u001b[39m\u001b[38;5;124mAnchored Lipschitz\u001b[39m\u001b[38;5;124m'\u001b[39m, color\u001b[38;5;241m=\u001b[39m\u001b[38;5;124m'\u001b[39m\u001b[38;5;124morange\u001b[39m\u001b[38;5;124m'\u001b[39m)\n\u001b[1;32m      7\u001b[0m plt\u001b[38;5;241m.\u001b[39mfill_between(xranges, anch \u001b[38;5;241m-\u001b[39m np\u001b[38;5;241m.\u001b[39marray(anchVar), anch \u001b[38;5;241m+\u001b[39m np\u001b[38;5;241m.\u001b[39marray(anchVar), alpha\u001b[38;5;241m=\u001b[39m\u001b[38;5;241m0.2\u001b[39m, color\u001b[38;5;241m=\u001b[39m\u001b[38;5;124m'\u001b[39m\u001b[38;5;124morange\u001b[39m\u001b[38;5;124m'\u001b[39m)\n\u001b[1;32m      8\u001b[0m plt\u001b[38;5;241m.\u001b[39mxlabel(\u001b[38;5;124m'\u001b[39m\u001b[38;5;124mNumber of Layers\u001b[39m\u001b[38;5;124m'\u001b[39m)\n",
      "\u001b[0;31mNameError\u001b[0m: name 'anch' is not defined"
     ]
    },
    {
     "data": {
      "image/png": "[encoded data removed]",
      "text/plain": [
       "<Figure size 1200x400 with 1 Axes>"
      ]
     },
     "metadata": {},
     "output_type": "display_data"
    }
   ],
   "source": [
    "xranges = [3, 4, 5, 6]\n",
    "\n",
    "plt.figure(figsize=(12, 4))\n",
    "plt.subplot(1, 2, 1)\n",
    "# plt.plot(xranges, naive, marker='^', label='Global Lipschitz')\n",
    "plt.errorbar(xranges, anch, marker='^', label='Anchored Lipschitz', color='orange')\n",
    "plt.fill_between(xranges, anch - np.array(anchVar), anch + np.array(anchVar), alpha=0.2, color='orange')\n",
    "plt.xlabel('Number of Layers')\n",
    "# plt.yscale('log')\n",
    "plt.legend()\n",
    "\n",
    "plt.subplot(1, 2, 2)\n",
    "# plt.plot(xranges, naivC, marker='^', label='Global Curvature')\n",
    "plt.errorbar(xranges, anchC, marker='^', label='Anchored Curvature',color='orange')\n",
    "plt.fill_between(xranges, anchC - np.array(anchCVar), anchC + np.array(anchCVar), alpha=0.2, color='orange')\n",
    "plt.xlabel('Number of Layers')\n",
    "# plt.yscale('log')\n",
    "plt.legend()\n",
    "\n",
    "# plt.subplot(2, 2, 3)\n",
    "# plt.plot(xranges, randNaive, label='Naive Lipschitz')\n",
    "# plt.plot(xranges, randAnch, label='Anchored Lipschitz')\n",
    "# plt.legend()\n",
    "\n",
    "\n",
    "# plt.subplot(2, 2, 4)\n",
    "# plt.plot(xranges, randNaivC, label='Naive Curvature')\n",
    "# plt.plot(xranges, randAnchC, label='Anchored Curvature')\n",
    "# plt.xlabel('Number of Layers')\n",
    "# # plt.yscale('log')\n",
    "# plt.legend()\n",
    "plt.savefig('anchExp.png')\n",
    "plt.savefig('anchExp.pdf')\n",
    "plt.show()"
   ]
  },
  {
   "cell_type": "code",
   "execution_count": 11,
   "metadata": {},
   "outputs": [
    {
     "data": {
      "image/png": "[encoded data removed]",
      "text/plain": [
       "<Figure size 500x300 with 1 Axes>"
      ]
     },
     "metadata": {},
     "output_type": "display_data"
    },
    {
     "data": {
      "image/png": "[encoded data removed]",
      "text/plain": [
       "<Figure size 500x300 with 1 Axes>"
      ]
     },
     "metadata": {},
     "output_type": "display_data"
    }
   ],
   "source": [
    "plt.figure(figsize=(5, 3))\n",
    "plt.plot(xranges, naive, label='Global Lipschitz')\n",
    "plt.plot(xranges, anch, label='Anchored Lipschitz')\n",
    "plt.yscale('log')\n",
    "plt.xticks([3, 4, 5, 6])\n",
    "plt.xlabel('Number of Layers')\n",
    "plt.legend()\n",
    "plt.savefig('anchExp1.pdf', bbox_inches='tight')\n",
    "\n",
    "plt.figure(figsize=(5, 3))\n",
    "plt.plot(xranges, naivC, label='Global Curvature')\n",
    "plt.plot(xranges, anchC, label='Anchored Curvature')\n",
    "plt.yscale('log')\n",
    "plt.xlabel('Number of Layers')\n",
    "plt.xticks([3, 4, 5, 6])\n",
    "plt.legend()\n",
    "plt.savefig('anchExp2.pdf', bbox_inches='tight')\n",
    "\n",
    "\n",
    "# plt.figure(figsize=(6, 3))\n",
    "# plt.plot(xranges, randNaive, label='Naive Lipschitz')\n",
    "# plt.plot(xranges, randAnch, label='Anchored Lipschitz')\n",
    "# plt.xlabel('Number of Layers')\n",
    "# plt.legend()\n",
    "# plt.savefig('anchExp3.pdf')\n",
    "\n",
    "# plt.figure(figsize=(6, 3))\n",
    "# plt.plot(xranges, randNaivC, label='Naive Curvature')\n",
    "# plt.plot(xranges, randAnchC, label='Anchored Curvature')\n",
    "# plt.xlabel('Number of Layers')\n",
    "# plt.legend()\n",
    "# plt.savefig('anchExp4.pdf')\n",
    "\n",
    "plt.show()"
   ]
  },
  {
   "cell_type": "code",
   "execution_count": null,
   "metadata": {},
   "outputs": [],
   "source": []
  }
 ],
 "metadata": {
  "kernelspec": {
   "display_name": "Python 3",
   "language": "python",
   "name": "python3"
  },
  "language_info": {
   "codemirror_mode": {
    "name": "ipython",
    "version": 3
   },
   "file_extension": ".py",
   "mimetype": "text/x-python",
   "name": "python",
   "nbconvert_exporter": "python",
   "pygments_lexer": "ipython3",
   "version": "3.10.12"
  }
 },
 "nbformat": 4,
 "nbformat_minor": 2
}
